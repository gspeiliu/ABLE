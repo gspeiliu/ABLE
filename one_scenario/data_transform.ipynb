{
 "cells": [
  {
   "cell_type": "code",
   "execution_count": 1,
   "metadata": {},
   "outputs": [
    {
     "name": "stdout",
     "output_type": "stream",
     "text": [
      "['time', '15']\n",
      "['weather', 'rain', '0.9']\n",
      "['weather', 'wetness', '0.7']\n",
      "['weather', 'fog', '0.5']\n",
      "['ego', 'start', 'lane_position', 'lane_540', '52.5']\n",
      "['ego', 'start', 'speed', '0.1']\n",
      "['ego', 'destination', 'lane_position', 'lane_572', '52.5']\n",
      "['ego', 'destination', 'speed', '0.1']\n",
      "['npc1', 'start', 'lane_position', 'lane_574', '94.5']\n",
      "['npc1', 'start', 'speed', '2.1']\n",
      "['npc1motion', '0', 'lane_position', 'lane_569', '31.5']\n",
      "['npc1motion', '0', 'speed', '0.5']\n",
      "['npc1', 'destination', 'lane_position', 'lane_569', '31.5']\n",
      "['npc1', 'destination', 'speed', '0.1']\n",
      "['npc2', 'start', 'lane_position', 'lane_564', '10.5']\n",
      "['npc2', 'start', 'speed', '2.1']\n",
      "['npc2motion', '0', 'lane_position', 'lane_568', '52.5']\n",
      "['npc2motion', '0', 'speed', '2.1']\n",
      "['npc2', 'destination', 'lane_position', 'lane_568', '52.5']\n",
      "['npc2', 'destination', 'speed', '0.1']\n",
      "['npc3', 'start', 'lane_position', 'lane_565', '10.5']\n",
      "['npc3', 'start', 'speed', '2.1']\n",
      "['npc3motion', '0', 'lane_position', 'lane_569', '52.5']\n",
      "['npc3motion', '0', 'speed', '2.1']\n",
      "['npc3', 'destination', 'lane_position', 'lane_569', '52.5']\n",
      "['npc3', 'destination', 'speed', '0.1']\n",
      "['npc4', 'start', 'lane_position', 'lane_570', '10.5']\n",
      "['npc4', 'start', 'speed', '2.1']\n",
      "['npc4motion', '0', 'lane_position', 'lane_566', '52.5']\n",
      "['npc4motion', '0', 'speed', '2.1']\n",
      "['npc4', 'destination', 'lane_position', 'lane_566', '52.5']\n",
      "['npc4', 'destination', 'speed', '0.1']\n",
      "['npc5', 'start', 'lane_position', 'lane_571', '73.5']\n",
      "['npc5', 'start', 'speed', '2.1']\n",
      "['npc5motion', '0', 'lane_position', 'lane_567', '31.5']\n",
      "['npc5motion', '0', 'speed', '1.3']\n",
      "['npc5', 'destination', 'lane_position', 'lane_567', '31.5']\n",
      "['npc5', 'destination', 'speed', '0.1']\n"
     ]
    }
   ],
   "source": [
    "original =  {\n",
    "        \"ScenarioName\": \"NO_0\",\n",
    "        \"actions\": [\n",
    "            \"time+15\",\n",
    "            \"weather+rain+0.9\",\n",
    "            \"weather+wetness+0.7\",\n",
    "            \"weather+fog+0.5\",\n",
    "            \"ego+start+lane_position+lane_540+52.5\",\n",
    "            \"ego+start+speed+0.1\",\n",
    "            \"ego+destination+lane_position+lane_572+52.5\",\n",
    "            \"ego+destination+speed+0.1\",\n",
    "            \"npc1+start+lane_position+lane_574+94.5\",\n",
    "            \"npc1+start+speed+2.1\",\n",
    "            \"npc1motion+0+lane_position+lane_569+31.5\",\n",
    "            \"npc1motion+0+speed+0.5\",\n",
    "            \"npc1+destination+lane_position+lane_569+31.5\",\n",
    "            \"npc1+destination+speed+0.1\",\n",
    "            \"npc2+start+lane_position+lane_564+10.5\",\n",
    "            \"npc2+start+speed+2.1\",\n",
    "            \"npc2motion+0+lane_position+lane_568+52.5\",\n",
    "            \"npc2motion+0+speed+2.1\",\n",
    "            \"npc2+destination+lane_position+lane_568+52.5\",\n",
    "            \"npc2+destination+speed+0.1\",\n",
    "            \"npc3+start+lane_position+lane_565+10.5\",\n",
    "            \"npc3+start+speed+2.1\",\n",
    "            \"npc3motion+0+lane_position+lane_569+52.5\",\n",
    "            \"npc3motion+0+speed+2.1\",\n",
    "            \"npc3+destination+lane_position+lane_569+52.5\",\n",
    "            \"npc3+destination+speed+0.1\",\n",
    "            \"npc4+start+lane_position+lane_570+10.5\",\n",
    "            \"npc4+start+speed+2.1\",\n",
    "            \"npc4motion+0+lane_position+lane_566+52.5\",\n",
    "            \"npc4motion+0+speed+2.1\",\n",
    "            \"npc4+destination+lane_position+lane_566+52.5\",\n",
    "            \"npc4+destination+speed+0.1\",\n",
    "            \"npc5+start+lane_position+lane_571+73.5\",\n",
    "            \"npc5+start+speed+2.1\",\n",
    "            \"npc5motion+0+lane_position+lane_567+31.5\",\n",
    "            \"npc5motion+0+speed+1.3\",\n",
    "            \"npc5+destination+lane_position+lane_567+31.5\",\n",
    "            \"npc5+destination+speed+0.1\"\n",
    "        ],}\n",
    "standard = {\n",
    "    \"ScenarioName\": \"NO_0\",\n",
    "    \"MapVariable\": \"\",\n",
    "    \"map\": \"san_francisco\",\n",
    "\n",
    "}\n",
    "for action in original['actions']:\n",
    "    action = action.split('+')\n",
    "    print(action)\n",
    "\n",
    "\n",
    "    \n",
    "    "
   ]
  }
 ],
 "metadata": {
  "kernelspec": {
   "display_name": "Python 3.8.5 ('base')",
   "language": "python",
   "name": "python3"
  },
  "language_info": {
   "codemirror_mode": {
    "name": "ipython",
    "version": 3
   },
   "file_extension": ".py",
   "mimetype": "text/x-python",
   "name": "python",
   "nbconvert_exporter": "python",
   "pygments_lexer": "ipython3",
   "version": "3.8.5"
  },
  "orig_nbformat": 4,
  "vscode": {
   "interpreter": {
    "hash": "01f254512d14d34559dc809aebfeb31549e3c03bc32b6ffffafcf4b3087a72e3"
   }
  }
 },
 "nbformat": 4,
 "nbformat_minor": 2
}
